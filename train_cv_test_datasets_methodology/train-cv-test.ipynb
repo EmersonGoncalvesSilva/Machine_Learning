{
 "cells": [
  {
   "cell_type": "markdown",
   "metadata": {},
   "source": [
    "## Training, Cross-Validation, and Testing"
   ]
  },
  {
   "cell_type": "markdown",
   "metadata": {},
   "source": [
    "## Main Concepts:\n",
    "- 1. Train the models using the training dataset to find the best paramaters w,b.\n",
    "- 2. Make cross-validation to tell which model performs the best in unseen data.\n",
    "- 3. Test the chosen model againts the testing dataset to estimate its general performance."
   ]
  },
  {
   "cell_type": "code",
   "execution_count": 1,
   "metadata": {},
   "outputs": [],
   "source": [
    "import numpy as np\n",
    "import pandas as pd\n",
    "import neural_network\n",
    "import matplotlib.pyplot as plt"
   ]
  },
  {
   "cell_type": "markdown",
   "metadata": {},
   "source": [
    "#### 01- Generate dataset"
   ]
  },
  {
   "cell_type": "code",
   "execution_count": 2,
   "metadata": {},
   "outputs": [
    {
     "data": {
      "image/png": "[encoded data removed]",
      "text/plain": [
       "<Figure size 640x480 with 1 Axes>"
      ]
     },
     "metadata": {},
     "output_type": "display_data"
    }
   ],
   "source": [
    "x =np.linspace(-10,  10, 100, dtype=float, axis= 0)                 #\n",
    "y = .5*x**3 + -20*x*2 + -7*x + -20 + np.random.normal(size=100)*10  # Polynomial function with with some noise added.\n",
    "\n",
    "# Plot data:\n",
    "# Create a scatter plot with a red dashed line\n",
    "plt.scatter(x, y, marker='.')\n",
    "# Add labels and title\n",
    "plt.xlabel('X-axis')\n",
    "plt.ylabel('Y-axis')\n",
    "plt.title('Scatter Plot of dataset')\n",
    "#plt.grid(True)\n",
    "plt.show()\n"
   ]
  },
  {
   "cell_type": "code",
   "execution_count": 3,
   "metadata": {},
   "outputs": [
    {
     "data": {
      "text/html": [
       "<div>\n",
       "<style scoped>\n",
       "    .dataframe tbody tr th:only-of-type {\n",
       "        vertical-align: middle;\n",
       "    }\n",
       "\n",
       "    .dataframe tbody tr th {\n",
       "        vertical-align: top;\n",
       "    }\n",
       "\n",
       "    .dataframe thead th {\n",
       "        text-align: right;\n",
       "    }\n",
       "</style>\n",
       "<table border=\"1\" class=\"dataframe\">\n",
       "  <thead>\n",
       "    <tr style=\"text-align: right;\">\n",
       "      <th></th>\n",
       "      <th>x</th>\n",
       "      <th>y</th>\n",
       "    </tr>\n",
       "  </thead>\n",
       "  <tbody>\n",
       "    <tr>\n",
       "      <th>0</th>\n",
       "      <td>-10.000000</td>\n",
       "      <td>-66.706635</td>\n",
       "    </tr>\n",
       "    <tr>\n",
       "      <th>1</th>\n",
       "      <td>-9.797980</td>\n",
       "      <td>-28.967981</td>\n",
       "    </tr>\n",
       "    <tr>\n",
       "      <th>2</th>\n",
       "      <td>-9.595960</td>\n",
       "      <td>-14.918535</td>\n",
       "    </tr>\n",
       "    <tr>\n",
       "      <th>3</th>\n",
       "      <td>-9.393939</td>\n",
       "      <td>16.114140</td>\n",
       "    </tr>\n",
       "    <tr>\n",
       "      <th>4</th>\n",
       "      <td>-9.191919</td>\n",
       "      <td>21.523184</td>\n",
       "    </tr>\n",
       "  </tbody>\n",
       "</table>\n",
       "</div>"
      ],
      "text/plain": [
       "           x          y\n",
       "0 -10.000000 -66.706635\n",
       "1  -9.797980 -28.967981\n",
       "2  -9.595960 -14.918535\n",
       "3  -9.393939  16.114140\n",
       "4  -9.191919  21.523184"
      ]
     },
     "execution_count": 3,
     "metadata": {},
     "output_type": "execute_result"
    }
   ],
   "source": [
    "df = pd.DataFrame(data= {'x':x, 'y':y})\n",
    "df.head()"
   ]
  },
  {
   "cell_type": "markdown",
   "metadata": {},
   "source": [
    "### 02. Define Models\n",
    "\n",
    "Let us define some Neural Network models with different architectures"
   ]
  },
  {
   "cell_type": "code",
   "execution_count": 245,
   "metadata": {},
   "outputs": [],
   "source": [
    "# Model 01:\n",
    "layer_01 = neural_network.NN_Layer(units=5, layer='layer_01', activation_func='relu')       # 1st hidden layer, 5 perceptrons, and ReLU activation function \n",
    "layer_02 = neural_network.NN_Layer(units=10, layer='layer_02', activation_func='relu')      \n",
    "layer_03 = neural_network.NN_Layer(units=1, layer='layer_03', activation_func='linear')     # Output Layer, linear activation function.\n",
    "\n",
    "nn_reg_model_01 = neural_network.NN([layer_01, layer_02, layer_03])"
   ]
  },
  {
   "cell_type": "code",
   "execution_count": 153,
   "metadata": {},
   "outputs": [],
   "source": [
    "# Model 02:\n",
    "l_01 = neural_network.NN_Layer(units=30, layer='layer_01', activation_func='relu')\n",
    "l_02 = neural_network.NN_Layer(units=1, layer='layer_02', activation_func='linear')\n",
    "\n",
    "nn_reg_model_02 = neural_network.NN([l_01, l_02])"
   ]
  },
  {
   "cell_type": "markdown",
   "metadata": {},
   "source": [
    "### 03 Train the models"
   ]
  },
  {
   "cell_type": "markdown",
   "metadata": {},
   "source": [
    "#### 03.01- Methodology One\n",
    "Split the data into `training` and `testing` datasets"
   ]
  },
  {
   "cell_type": "code",
   "execution_count": 7,
   "metadata": {},
   "outputs": [],
   "source": [
    "# Training dataset: 70% , testing dataset: 30%\n",
    "\n",
    "# Train:\n",
    "df_train_01 = df.sample(frac=.7, replace=False, random_state=0)\n",
    "\n",
    "# Test:\n",
    "df_test_01 = df[~df.index.isin(df_train_01.index)]"
   ]
  },
  {
   "cell_type": "markdown",
   "metadata": {},
   "source": [
    "Train models"
   ]
  },
  {
   "cell_type": "code",
   "execution_count": 267,
   "metadata": {},
   "outputs": [
    {
     "name": "stdout",
     "output_type": "stream",
     "text": [
      "[16031.57979453]\n",
      "[2616.46103088]\n",
      "[1099.77870184]\n",
      "[684.55774863]\n",
      "[625.84692853]\n",
      "[498.5001487]\n",
      "[347.18549838]\n",
      "[282.90339195]\n",
      "[219.97647151]\n",
      "[195.43803677]\n"
     ]
    }
   ],
   "source": [
    "# Train model 01:\n",
    "nn_reg_model_01.train(features=df_train_01['x'].values.reshape(-1,1), \n",
    "                      labels=df_train_01['y'].values.reshape(-1,1),\n",
    "                      alpha=1e-5,\n",
    "                      n_iterations=10000,\n",
    "                      print_cost=True)"
   ]
  },
  {
   "cell_type": "code",
   "execution_count": 181,
   "metadata": {},
   "outputs": [
    {
     "name": "stdout",
     "output_type": "stream",
     "text": [
      "[42290.22242371]\n",
      "[1411.55449633]\n",
      "[835.80631892]\n",
      "[624.85926232]\n",
      "[502.15407712]\n",
      "[426.99914688]\n",
      "[377.73611738]\n",
      "[345.47584466]\n",
      "[294.09661526]\n",
      "[259.46677764]\n"
     ]
    }
   ],
   "source": [
    "# Train model 02:\n",
    "nn_reg_model_02.train(features=df_train_01['x'].values.reshape(-1,1), \n",
    "                      labels=df_train_01['y'].values.reshape(-1,1),\n",
    "                      alpha=1e-5,\n",
    "                      n_iterations=10000,\n",
    "                      print_cost=True)"
   ]
  },
  {
   "cell_type": "markdown",
   "metadata": {},
   "source": [
    "Evaluate models"
   ]
  },
  {
   "cell_type": "code",
   "execution_count": 268,
   "metadata": {},
   "outputs": [],
   "source": [
    "# Making predictions using the models:\n",
    "\n",
    "y_hat_1_model_01 = nn_reg_model_01.predict(x = df_test_01['x'].values.reshape(-1,1))\n",
    "y_hat_1_model_02 = nn_reg_model_02.predict(x = df_test_01['x'].values.reshape(-1,1))"
   ]
  },
  {
   "cell_type": "code",
   "execution_count": 269,
   "metadata": {},
   "outputs": [],
   "source": [
    "# Calculating the mean squared error:\n",
    "\n",
    "def error(y_hat, y_test):\n",
    "    m = len(y_hat)\n",
    "    return (1/m)*np.sum((y_hat - y_test)**2)\n"
   ]
  },
  {
   "cell_type": "code",
   "execution_count": 272,
   "metadata": {},
   "outputs": [
    {
     "name": "stdout",
     "output_type": "stream",
     "text": [
      "Error of the Model 01 in the testing dataset: \n",
      "\t427.219613369186\n",
      "Error of the Model 02 in the testing dataset: \n",
      "\t296.41625423345266\n"
     ]
    }
   ],
   "source": [
    "# Model 01:\n",
    "print(\n",
    "    f'Error of the Model 01 in the testing dataset: \\n\\t{error(y_hat_1_model_01, df_test_01[\"y\"].values.reshape(-1,1))}')\n",
    "\n",
    "# Model 02:\n",
    "print(\n",
    "    f'Error of the Model 02 in the testing dataset: \\n\\t{error(y_hat_1_model_02, df_test_01[\"y\"].values.reshape(-1,1))}')\n"
   ]
  },
  {
   "cell_type": "code",
   "execution_count": 273,
   "metadata": {},
   "outputs": [
    {
     "data": {
      "image/png": "[encoded data removed]",
      "text/plain": [
       "<Figure size 640x480 with 1 Axes>"
      ]
     },
     "metadata": {},
     "output_type": "display_data"
    }
   ],
   "source": [
    "# Create a scatter plot with a red dashed line\n",
    "plt.scatter(df_test_01['x'].values.reshape(-1,1), df_test_01['y'].values.reshape(-1,1), marker='h', label='y')\n",
    "plt.scatter(df_test_01['x'].values.reshape(-1,1), y_hat_1_model_01, marker='v', label ='y_hat Model 01', color='gray')\n",
    "plt.scatter(df_test_01['x'].values.reshape(-1,1), y_hat_1_model_02, marker='s', label='y_hat Model 02', color='pink')\n",
    "# Add labels and title\n",
    "plt.xlabel('X-axis')\n",
    "plt.ylabel('Y-axis')\n",
    "plt.title('Scatter plot predited values')\n",
    "plt.legend()\n",
    "plt.grid(True)\n",
    "plt.show()"
   ]
  },
  {
   "cell_type": "markdown",
   "metadata": {},
   "source": [
    "`Model 01` does better fitting the training dataset [`trainning_cost: 195.438`], but `Model 02` achieves the best performance making generalization [`error_testing: 296.4`]. <br>\n",
    "Thus `Model 02` should be the selected model."
   ]
  },
  {
   "cell_type": "markdown",
   "metadata": {},
   "source": [
    "#### Recap:\n",
    "- Two different models were trained using the `training dataset`. When being trained, the training dataset was used to determine the best values of $Ws$ and $b$ to minimize the cost.<br>\n",
    "- Then a `test dataset` was used to choose between the two models architecture. `Model 02` achived a better perfomance generalizing at the testing dataset.\n",
    "\n",
    "But what is the estimation of `Model 02` performance?<br>\n",
    "Estimate Model 2 performance using the testing set, that has already been seen by the model when selecting the best model, would misslead to an optimistic estimation of performance.<br>\n",
    "<br>\n",
    "**To estimate the general performance of `Model 02`, an another unseen dataset is necessary.**"
   ]
  },
  {
   "cell_type": "markdown",
   "metadata": {},
   "source": [
    "#### 03.02- Methodology Two\n",
    "Split the data into `training`, `Cross-Calidation`, `Testing` datasets"
   ]
  },
  {
   "cell_type": "markdown",
   "metadata": {},
   "source": [
    "Spliting the dataset into train, cross-validation and testing sets, allow one more dataset to estimate properly what is perfomance of the chosen model\n",
    "| dataset         | use                                                   |\n",
    "|-----------------|-------------------------------------------------------|\n",
    "| train           | trainning - determine best $W$, $b$                   |\n",
    "| cross-validation| Determine best model (nr. $hidden layers$, $neuros$)  |\n",
    "| test            | Estimate the performance of the chosen model          |\n"
   ]
  },
  {
   "cell_type": "markdown",
   "metadata": {},
   "source": [
    "Split the data into `training`, `cross-validation`, and  `testing` datasets"
   ]
  },
  {
   "cell_type": "code",
   "execution_count": 274,
   "metadata": {},
   "outputs": [],
   "source": [
    "# Training dataset: 70% , cross-validation: 20%, testing: 10%\n",
    "\n",
    "# Train dataset:\n",
    "df_train_02 = df.sample(frac=.7, replace=False, random_state=0)\n",
    "\n",
    "# CV and Test:\n",
    "df_cv_test = df[~df.index.isin(df_train_02.index)]\n",
    "# CV dataset\n",
    "df_cv = df_cv_test.sample(frac=2/3,replace=False, random_state=0)\n",
    "# Test dataset\n",
    "df_test_02 = df_cv_test[~df_cv_test.index.isin(df_cv.index)]"
   ]
  },
  {
   "cell_type": "markdown",
   "metadata": {},
   "source": [
    "#### Train Models\n",
    "**Since the training dataset did not change in size and in values, there is not need to train again the models.**"
   ]
  },
  {
   "cell_type": "markdown",
   "metadata": {},
   "source": [
    "#### Evaluate models"
   ]
  },
  {
   "cell_type": "code",
   "execution_count": 281,
   "metadata": {},
   "outputs": [
    {
     "name": "stdout",
     "output_type": "stream",
     "text": [
      "Error of the Model 01 in the cv dataset: \n",
      "\t434.09786991349705\n",
      "Error of the Model 02 in the cv dataset: \n",
      "\t342.21977073964484\n"
     ]
    }
   ],
   "source": [
    "# Use the Cross-validation set to tell which is the best model:\n",
    "\n",
    "# Making predictions using the models:\n",
    "y_hat_model_01_cv = nn_reg_model_01.predict(x = df_cv['x'].values.reshape(-1,1))\n",
    "y_hat_model_02_cv = nn_reg_model_02.predict(x = df_cv['x'].values.reshape(-1,1))\n",
    "\n",
    "\n",
    "# Evaluate the error in the cross-validation dataset:\n",
    "# Model 01:\n",
    "print(\n",
    "    f'Error of the Model 01 in the cv dataset: \\n\\t{error(y_hat_model_01_cv, df_cv[\"y\"].values.reshape(-1,1))}')\n",
    "\n",
    "# Model 02:\n",
    "print(\n",
    "    f'Error of the Model 02 in the cv dataset: \\n\\t{error(y_hat_model_02_cv, df_cv[\"y\"].values.reshape(-1,1))}')"
   ]
  },
  {
   "cell_type": "markdown",
   "metadata": {},
   "source": [
    "`Model 02` achieved better performance predicting the cross-validation dataset"
   ]
  },
  {
   "cell_type": "markdown",
   "metadata": {},
   "source": [
    "#### Evaluate the chosen model against the testing set"
   ]
  },
  {
   "cell_type": "code",
   "execution_count": 282,
   "metadata": {},
   "outputs": [
    {
     "name": "stdout",
     "output_type": "stream",
     "text": [
      "Error of the Model 02 in the cv dataset: \n",
      "\t204.80922122106824\n"
     ]
    }
   ],
   "source": [
    "# Use the test set to estimate the general performance of the Model 02\n",
    "\n",
    "# Making predictions using the Model 02:\n",
    "y_hat_model_02_test = nn_reg_model_02.predict(x = df_test_02['x'].values.reshape(-1,1))\n",
    "\n",
    "\n",
    "# Evaluate the error in the test dataset:\n",
    "# Model 02:\n",
    "print(\n",
    "    f'Error of the Model 02 in the cv dataset: \\n\\t{error(y_hat_model_02_test, df_test_02[\"y\"].values.reshape(-1,1))}')\n"
   ]
  },
  {
   "cell_type": "markdown",
   "metadata": {},
   "source": [
    "The estimated error (MEAN SQUARED ERROR) of the `Model 02` is  `204.80`"
   ]
  },
  {
   "cell_type": "markdown",
   "metadata": {},
   "source": [
    "#### Author:\n",
    "Emerson Goncalves"
   ]
  }
 ],
 "metadata": {
  "kernelspec": {
   "display_name": "emerson_learning-env",
   "language": "python",
   "name": "python3"
  },
  "language_info": {
   "codemirror_mode": {
    "name": "ipython",
    "version": 3
   },
   "file_extension": ".py",
   "mimetype": "text/x-python",
   "name": "python",
   "nbconvert_exporter": "python",
   "pygments_lexer": "ipython3",
   "version": "3.10.9"
  },
  "orig_nbformat": 4
 },
 "nbformat": 4,
 "nbformat_minor": 2
}
