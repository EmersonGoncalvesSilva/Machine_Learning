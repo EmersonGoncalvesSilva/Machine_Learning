{
 "cells": [
  {
   "cell_type": "markdown",
   "metadata": {},
   "source": [
    "### Regression using Neural Network"
   ]
  },
  {
   "cell_type": "markdown",
   "metadata": {},
   "source": [
    "#### Objective:\n",
    "- Use `Neural Network` to predict the homes price.\n",
    "\n",
    "- Paremeters:\n",
    "    - `x features`: MedInc, HouseAge, AveRooms, AveBedrms, Population, AveOccup, Latitude, Longitude\n",
    "    - `y label`: MedHouseVal\n"
   ]
  },
  {
   "cell_type": "markdown",
   "metadata": {},
   "source": [
    "#### Main Concepts:\n",
    "\n",
    "Neural Networks\n",
    "- Forward propagation\n",
    "- Backward propagation\n",
    "- Activation function\n",
    "\n",
    "\n"
   ]
  },
  {
   "cell_type": "code",
   "execution_count": 1,
   "metadata": {},
   "outputs": [],
   "source": [
    "import numpy as np\n",
    "import pandas as pd\n",
    "import neural_network"
   ]
  },
  {
   "cell_type": "markdown",
   "metadata": {},
   "source": [
    "Load dataset "
   ]
  },
  {
   "cell_type": "code",
   "execution_count": 2,
   "metadata": {},
   "outputs": [
    {
     "data": {
      "text/html": [
       "<div>\n",
       "<style scoped>\n",
       "    .dataframe tbody tr th:only-of-type {\n",
       "        vertical-align: middle;\n",
       "    }\n",
       "\n",
       "    .dataframe tbody tr th {\n",
       "        vertical-align: top;\n",
       "    }\n",
       "\n",
       "    .dataframe thead th {\n",
       "        text-align: right;\n",
       "    }\n",
       "</style>\n",
       "<table border=\"1\" class=\"dataframe\">\n",
       "  <thead>\n",
       "    <tr style=\"text-align: right;\">\n",
       "      <th></th>\n",
       "      <th>MedInc</th>\n",
       "      <th>HouseAge</th>\n",
       "      <th>AveRooms</th>\n",
       "      <th>AveBedrms</th>\n",
       "      <th>Population</th>\n",
       "      <th>AveOccup</th>\n",
       "      <th>Latitude</th>\n",
       "      <th>Longitude</th>\n",
       "      <th>MedHouseVal</th>\n",
       "    </tr>\n",
       "  </thead>\n",
       "  <tbody>\n",
       "    <tr>\n",
       "      <th>0</th>\n",
       "      <td>8.3252</td>\n",
       "      <td>41.0</td>\n",
       "      <td>6.984127</td>\n",
       "      <td>1.023810</td>\n",
       "      <td>322.0</td>\n",
       "      <td>2.555556</td>\n",
       "      <td>37.88</td>\n",
       "      <td>-122.23</td>\n",
       "      <td>4.526</td>\n",
       "    </tr>\n",
       "    <tr>\n",
       "      <th>1</th>\n",
       "      <td>8.3014</td>\n",
       "      <td>21.0</td>\n",
       "      <td>6.238137</td>\n",
       "      <td>0.971880</td>\n",
       "      <td>2401.0</td>\n",
       "      <td>2.109842</td>\n",
       "      <td>37.86</td>\n",
       "      <td>-122.22</td>\n",
       "      <td>3.585</td>\n",
       "    </tr>\n",
       "    <tr>\n",
       "      <th>2</th>\n",
       "      <td>7.2574</td>\n",
       "      <td>52.0</td>\n",
       "      <td>8.288136</td>\n",
       "      <td>1.073446</td>\n",
       "      <td>496.0</td>\n",
       "      <td>2.802260</td>\n",
       "      <td>37.85</td>\n",
       "      <td>-122.24</td>\n",
       "      <td>3.521</td>\n",
       "    </tr>\n",
       "    <tr>\n",
       "      <th>3</th>\n",
       "      <td>5.6431</td>\n",
       "      <td>52.0</td>\n",
       "      <td>5.817352</td>\n",
       "      <td>1.073059</td>\n",
       "      <td>558.0</td>\n",
       "      <td>2.547945</td>\n",
       "      <td>37.85</td>\n",
       "      <td>-122.25</td>\n",
       "      <td>3.413</td>\n",
       "    </tr>\n",
       "    <tr>\n",
       "      <th>4</th>\n",
       "      <td>3.8462</td>\n",
       "      <td>52.0</td>\n",
       "      <td>6.281853</td>\n",
       "      <td>1.081081</td>\n",
       "      <td>565.0</td>\n",
       "      <td>2.181467</td>\n",
       "      <td>37.85</td>\n",
       "      <td>-122.25</td>\n",
       "      <td>3.422</td>\n",
       "    </tr>\n",
       "  </tbody>\n",
       "</table>\n",
       "</div>"
      ],
      "text/plain": [
       "   MedInc  HouseAge  AveRooms  AveBedrms  Population  AveOccup  Latitude  \\\n",
       "0  8.3252      41.0  6.984127   1.023810       322.0  2.555556     37.88   \n",
       "1  8.3014      21.0  6.238137   0.971880      2401.0  2.109842     37.86   \n",
       "2  7.2574      52.0  8.288136   1.073446       496.0  2.802260     37.85   \n",
       "3  5.6431      52.0  5.817352   1.073059       558.0  2.547945     37.85   \n",
       "4  3.8462      52.0  6.281853   1.081081       565.0  2.181467     37.85   \n",
       "\n",
       "   Longitude  MedHouseVal  \n",
       "0    -122.23        4.526  \n",
       "1    -122.22        3.585  \n",
       "2    -122.24        3.521  \n",
       "3    -122.25        3.413  \n",
       "4    -122.25        3.422  "
      ]
     },
     "execution_count": 2,
     "metadata": {},
     "output_type": "execute_result"
    }
   ],
   "source": [
    "df = pd.read_csv('dataset_regression_housing\\housing.csv')\n",
    "\n",
    "df.drop(columns=['Unnamed: 0'], inplace=True)\n",
    "\n",
    "df.head()"
   ]
  },
  {
   "cell_type": "markdown",
   "metadata": {},
   "source": [
    "Split dateset into training and testing:"
   ]
  },
  {
   "cell_type": "code",
   "execution_count": 3,
   "metadata": {},
   "outputs": [],
   "source": [
    "#Trainnning dataset:\n",
    "df_train = df.sample(frac=.7,replace=False, random_state=0)\n",
    "\n",
    "#Testing dataset:\n",
    "df_test = df[~df.index.isin(df_train.index)]"
   ]
  },
  {
   "cell_type": "code",
   "execution_count": 29,
   "metadata": {},
   "outputs": [
    {
     "data": {
      "text/plain": [
       "(14448, 9)"
      ]
     },
     "execution_count": 29,
     "metadata": {},
     "output_type": "execute_result"
    }
   ],
   "source": [
    "df_train.shape"
   ]
  },
  {
   "cell_type": "code",
   "execution_count": 30,
   "metadata": {},
   "outputs": [],
   "source": [
    "# Training dataset:\n",
    "\n",
    "x_train = df_train.values[:,:-1]\n",
    "y_train = df_train.values[:,-1].reshape(14448,1)"
   ]
  },
  {
   "cell_type": "markdown",
   "metadata": {},
   "source": [
    "Train Model"
   ]
  },
  {
   "cell_type": "markdown",
   "metadata": {},
   "source": [
    "Set Neural Network Model"
   ]
  },
  {
   "cell_type": "code",
   "execution_count": 32,
   "metadata": {},
   "outputs": [
    {
     "name": "stdout",
     "output_type": "stream",
     "text": [
      "[4.5058694e+10]\n",
      "[256.57240553]\n",
      "[210.30563693]\n",
      "[172.42598946]\n",
      "[141.41306731]\n",
      "[116.02208813]\n",
      "[95.23392052]\n",
      "[78.2141786]\n",
      "[64.27973185]\n",
      "[52.87128585]\n"
     ]
    }
   ],
   "source": [
    "# Neural Network 01:\n",
    "\n",
    "# Hidden Layers:\n",
    "\n",
    "layer_1= neural_network.NN_Layer(layer='layer_01', units=15, activation_func='relu')\n",
    "layer_2= neural_network.NN_Layer(layer='layer_02', units=8, activation_func='relu')\n",
    "layer_3= neural_network.NN_Layer(layer='layer_03', units=1, activation_func='linear')\n",
    "\n",
    "neural_net_01 = neural_network.NN([layer_1, layer_2, layer_3])\n",
    "\n",
    "# alpha=5e-5\n",
    "neural_net_01.train(features=x_train, \n",
    "                labels= y_train,\n",
    "                alpha=1e-4,             # Learning Rate\n",
    "                n_iterations=10000,     # Number of Iterations\n",
    "                e=1e-8,                 # Minimal variance in cost to consider optimization has converged.\n",
    "                print_cost=True)        "
   ]
  },
  {
   "cell_type": "code",
   "execution_count": 48,
   "metadata": {},
   "outputs": [
    {
     "name": "stdout",
     "output_type": "stream",
     "text": [
      "[7.04087172e+08]\n",
      "[9.425609]\n",
      "[7.96097768]\n",
      "[6.76185096]\n",
      "[5.78009887]\n",
      "[4.97631627]\n",
      "[4.31824132]\n",
      "[3.77946051]\n",
      "[3.3383485]\n",
      "[2.97720015]\n"
     ]
    }
   ],
   "source": [
    "# Neural Net 02:\n",
    "\n",
    "l_1= neural_network.NN_Layer(layer='layer_01', units=5, activation_func='relu')\n",
    "l_2= neural_network.NN_Layer(layer='layer_02', units=3, activation_func='relu')\n",
    "l_3= neural_network.NN_Layer(layer='layer_03', units=1, activation_func='linear')\n",
    "\n",
    "neural_net_02 = neural_network.NN([l_1, l_2, l_3])\n",
    "\n",
    "# Trainning:\n",
    "\n",
    "# alpha=1e-6:\n",
    "neural_net_02.train(features=x_train,\n",
    "                labels= y_train,\n",
    "                alpha=1e-4,\n",
    "                n_iterations=10000,\n",
    "                e=1e-8,\n",
    "                print_cost=True)     "
   ]
  },
  {
   "cell_type": "markdown",
   "metadata": {},
   "source": [
    "Evaluate Models"
   ]
  },
  {
   "cell_type": "code",
   "execution_count": 50,
   "metadata": {},
   "outputs": [],
   "source": [
    "m, n = df_test.shape\n",
    "x_test = df_test.values[:, :-1]\n",
    "y_test = df_test.values[:, -1].reshape(-1, 1)"
   ]
  },
  {
   "cell_type": "code",
   "execution_count": 47,
   "metadata": {},
   "outputs": [
    {
     "name": "stdout",
     "output_type": "stream",
     "text": [
      "The error of this model is: \n",
      "\t[43.52169534]\n"
     ]
    }
   ],
   "source": [
    "# Model 01:\n",
    "\n",
    "y_hat_01 = neural_net_01.predict(x_test) \n",
    "\n",
    "error = sum((1/m)*(y_test-y_hat_01)**2)\n",
    "\n",
    "print(f'The error of this model is: \\n\\t{error}')\n"
   ]
  },
  {
   "cell_type": "code",
   "execution_count": 51,
   "metadata": {},
   "outputs": [
    {
     "name": "stdout",
     "output_type": "stream",
     "text": [
      "The error of this model is: \n",
      "\t[2.63998812]\n"
     ]
    }
   ],
   "source": [
    "# Model 02:\n",
    "\n",
    "y_hat_02 = neural_net_02.predict(x_test)\n",
    "\n",
    "error_02 = sum((1/m)*(y_test-y_hat_02)**2)\n",
    "\n",
    "print(f'The error of this model is: \\n\\t{error_02}')\n"
   ]
  },
  {
   "cell_type": "markdown",
   "metadata": {},
   "source": [
    "\n",
    "\n",
    "`Model 02 generalizes better!`"
   ]
  }
 ],
 "metadata": {
  "kernelspec": {
   "display_name": "deploy_310",
   "language": "python",
   "name": "python3"
  },
  "language_info": {
   "codemirror_mode": {
    "name": "ipython",
    "version": 3
   },
   "file_extension": ".py",
   "mimetype": "text/x-python",
   "name": "python",
   "nbconvert_exporter": "python",
   "pygments_lexer": "ipython3",
   "version": "3.10.9"
  },
  "orig_nbformat": 4
 },
 "nbformat": 4,
 "nbformat_minor": 2
}
