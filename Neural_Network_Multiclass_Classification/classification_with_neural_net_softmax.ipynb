{
 "cells": [
  {
   "cell_type": "markdown",
   "metadata": {},
   "source": [
    "## Multiclass Classification - Using Neural Network (Softmax Regression)"
   ]
  },
  {
   "cell_type": "markdown",
   "metadata": {},
   "source": [
    "This notebook performs multiclass classification using neural networks. \n",
    "\n"
   ]
  },
  {
   "cell_type": "markdown",
   "metadata": {},
   "source": [
    "Objective:\n",
    "- Train a neural network model capable to predict a multiclass problem.\n",
    "- Two neural network models, with different architectures, will be trainned. \n",
    "- The models will be trainned in the training dataset, and their performance will be assessed using the testing dataset. \n",
    "\n",
    "Dataset:\n",
    "- The Iris dataset is used in this problem. dataset available at: `https://www.kaggle.com/datasets/uciml/iris`\n"
   ]
  },
  {
   "cell_type": "code",
   "execution_count": 19,
   "metadata": {},
   "outputs": [],
   "source": [
    "import numpy as np\n",
    "import pandas as pd\n",
    "import neural_network_softmax\n",
    "import matplotlib.pyplot as plt"
   ]
  },
  {
   "cell_type": "markdown",
   "metadata": {},
   "source": [
    "#### 01- Data Loading and Pre-Processing"
   ]
  },
  {
   "cell_type": "code",
   "execution_count": 2,
   "metadata": {},
   "outputs": [],
   "source": [
    "# Get data:\n",
    "df = pd.read_csv(filepath_or_buffer='dataset_classification\\Iris.csv',sep=',')"
   ]
  },
  {
   "cell_type": "code",
   "execution_count": 3,
   "metadata": {},
   "outputs": [
    {
     "data": {
      "text/html": [
       "<div>\n",
       "<style scoped>\n",
       "    .dataframe tbody tr th:only-of-type {\n",
       "        vertical-align: middle;\n",
       "    }\n",
       "\n",
       "    .dataframe tbody tr th {\n",
       "        vertical-align: top;\n",
       "    }\n",
       "\n",
       "    .dataframe thead th {\n",
       "        text-align: right;\n",
       "    }\n",
       "</style>\n",
       "<table border=\"1\" class=\"dataframe\">\n",
       "  <thead>\n",
       "    <tr style=\"text-align: right;\">\n",
       "      <th></th>\n",
       "      <th>Id</th>\n",
       "      <th>SepalLengthCm</th>\n",
       "      <th>SepalWidthCm</th>\n",
       "      <th>PetalLengthCm</th>\n",
       "      <th>PetalWidthCm</th>\n",
       "      <th>Species</th>\n",
       "    </tr>\n",
       "  </thead>\n",
       "  <tbody>\n",
       "    <tr>\n",
       "      <th>0</th>\n",
       "      <td>1</td>\n",
       "      <td>5.1</td>\n",
       "      <td>3.5</td>\n",
       "      <td>1.4</td>\n",
       "      <td>0.2</td>\n",
       "      <td>Iris-setosa</td>\n",
       "    </tr>\n",
       "    <tr>\n",
       "      <th>1</th>\n",
       "      <td>2</td>\n",
       "      <td>4.9</td>\n",
       "      <td>3.0</td>\n",
       "      <td>1.4</td>\n",
       "      <td>0.2</td>\n",
       "      <td>Iris-setosa</td>\n",
       "    </tr>\n",
       "    <tr>\n",
       "      <th>2</th>\n",
       "      <td>3</td>\n",
       "      <td>4.7</td>\n",
       "      <td>3.2</td>\n",
       "      <td>1.3</td>\n",
       "      <td>0.2</td>\n",
       "      <td>Iris-setosa</td>\n",
       "    </tr>\n",
       "    <tr>\n",
       "      <th>3</th>\n",
       "      <td>4</td>\n",
       "      <td>4.6</td>\n",
       "      <td>3.1</td>\n",
       "      <td>1.5</td>\n",
       "      <td>0.2</td>\n",
       "      <td>Iris-setosa</td>\n",
       "    </tr>\n",
       "    <tr>\n",
       "      <th>4</th>\n",
       "      <td>5</td>\n",
       "      <td>5.0</td>\n",
       "      <td>3.6</td>\n",
       "      <td>1.4</td>\n",
       "      <td>0.2</td>\n",
       "      <td>Iris-setosa</td>\n",
       "    </tr>\n",
       "  </tbody>\n",
       "</table>\n",
       "</div>"
      ],
      "text/plain": [
       "   Id  SepalLengthCm  SepalWidthCm  PetalLengthCm  PetalWidthCm      Species\n",
       "0   1            5.1           3.5            1.4           0.2  Iris-setosa\n",
       "1   2            4.9           3.0            1.4           0.2  Iris-setosa\n",
       "2   3            4.7           3.2            1.3           0.2  Iris-setosa\n",
       "3   4            4.6           3.1            1.5           0.2  Iris-setosa\n",
       "4   5            5.0           3.6            1.4           0.2  Iris-setosa"
      ]
     },
     "execution_count": 3,
     "metadata": {},
     "output_type": "execute_result"
    }
   ],
   "source": [
    "df.head()"
   ]
  },
  {
   "cell_type": "code",
   "execution_count": 4,
   "metadata": {},
   "outputs": [
    {
     "name": "stdout",
     "output_type": "stream",
     "text": [
      "<class 'pandas.core.frame.DataFrame'>\n",
      "RangeIndex: 150 entries, 0 to 149\n",
      "Data columns (total 6 columns):\n",
      " #   Column         Non-Null Count  Dtype  \n",
      "---  ------         --------------  -----  \n",
      " 0   Id             150 non-null    int64  \n",
      " 1   SepalLengthCm  150 non-null    float64\n",
      " 2   SepalWidthCm   150 non-null    float64\n",
      " 3   PetalLengthCm  150 non-null    float64\n",
      " 4   PetalWidthCm   150 non-null    float64\n",
      " 5   Species        150 non-null    object \n",
      "dtypes: float64(4), int64(1), object(1)\n",
      "memory usage: 7.2+ KB\n"
     ]
    }
   ],
   "source": [
    "df.info()"
   ]
  },
  {
   "cell_type": "markdown",
   "metadata": {},
   "source": [
    "Objective of the multiclass Neural Network model:\n",
    "- Based on the values of `SepalLengthCm`, `SepalWidthCm`, `PetalLengthCm`, `PetalWidthCm` predict the species of the Iris plant. It can be `Iris-setosa`, `Iris-versicolor`, `Iris-virginica`.\n"
   ]
  },
  {
   "cell_type": "markdown",
   "metadata": {},
   "source": [
    "Hot-encoding the labels:"
   ]
  },
  {
   "cell_type": "code",
   "execution_count": 5,
   "metadata": {},
   "outputs": [],
   "source": [
    "# Hot-encoding:\n",
    "for label in df.Species.unique():\n",
    "    df[label] = df.apply(lambda x:1 if x['Species'] == label else 0, axis=1)"
   ]
  },
  {
   "cell_type": "code",
   "execution_count": 6,
   "metadata": {},
   "outputs": [
    {
     "data": {
      "text/html": [
       "<div>\n",
       "<style scoped>\n",
       "    .dataframe tbody tr th:only-of-type {\n",
       "        vertical-align: middle;\n",
       "    }\n",
       "\n",
       "    .dataframe tbody tr th {\n",
       "        vertical-align: top;\n",
       "    }\n",
       "\n",
       "    .dataframe thead th {\n",
       "        text-align: right;\n",
       "    }\n",
       "</style>\n",
       "<table border=\"1\" class=\"dataframe\">\n",
       "  <thead>\n",
       "    <tr style=\"text-align: right;\">\n",
       "      <th></th>\n",
       "      <th>Id</th>\n",
       "      <th>SepalLengthCm</th>\n",
       "      <th>SepalWidthCm</th>\n",
       "      <th>PetalLengthCm</th>\n",
       "      <th>PetalWidthCm</th>\n",
       "      <th>Species</th>\n",
       "      <th>Iris-setosa</th>\n",
       "      <th>Iris-versicolor</th>\n",
       "      <th>Iris-virginica</th>\n",
       "    </tr>\n",
       "  </thead>\n",
       "  <tbody>\n",
       "    <tr>\n",
       "      <th>0</th>\n",
       "      <td>1</td>\n",
       "      <td>5.1</td>\n",
       "      <td>3.5</td>\n",
       "      <td>1.4</td>\n",
       "      <td>0.2</td>\n",
       "      <td>Iris-setosa</td>\n",
       "      <td>1</td>\n",
       "      <td>0</td>\n",
       "      <td>0</td>\n",
       "    </tr>\n",
       "    <tr>\n",
       "      <th>1</th>\n",
       "      <td>2</td>\n",
       "      <td>4.9</td>\n",
       "      <td>3.0</td>\n",
       "      <td>1.4</td>\n",
       "      <td>0.2</td>\n",
       "      <td>Iris-setosa</td>\n",
       "      <td>1</td>\n",
       "      <td>0</td>\n",
       "      <td>0</td>\n",
       "    </tr>\n",
       "    <tr>\n",
       "      <th>2</th>\n",
       "      <td>3</td>\n",
       "      <td>4.7</td>\n",
       "      <td>3.2</td>\n",
       "      <td>1.3</td>\n",
       "      <td>0.2</td>\n",
       "      <td>Iris-setosa</td>\n",
       "      <td>1</td>\n",
       "      <td>0</td>\n",
       "      <td>0</td>\n",
       "    </tr>\n",
       "  </tbody>\n",
       "</table>\n",
       "</div>"
      ],
      "text/plain": [
       "   Id  SepalLengthCm  SepalWidthCm  PetalLengthCm  PetalWidthCm      Species  \\\n",
       "0   1            5.1           3.5            1.4           0.2  Iris-setosa   \n",
       "1   2            4.9           3.0            1.4           0.2  Iris-setosa   \n",
       "2   3            4.7           3.2            1.3           0.2  Iris-setosa   \n",
       "\n",
       "   Iris-setosa  Iris-versicolor  Iris-virginica  \n",
       "0            1                0               0  \n",
       "1            1                0               0  \n",
       "2            1                0               0  "
      ]
     },
     "execution_count": 6,
     "metadata": {},
     "output_type": "execute_result"
    }
   ],
   "source": [
    "df.head(3)"
   ]
  },
  {
   "cell_type": "markdown",
   "metadata": {},
   "source": [
    "Split data into training and testing datasets"
   ]
  },
  {
   "cell_type": "code",
   "execution_count": 7,
   "metadata": {},
   "outputs": [],
   "source": [
    "# Trainning dataset:\n",
    "df_train = df.sample(frac=.7, replace=False, random_state=0)\n",
    "\n",
    "# Testing dataset:\n",
    "df_test = df[~df.index.isin(df_train.index)]"
   ]
  },
  {
   "cell_type": "code",
   "execution_count": 8,
   "metadata": {},
   "outputs": [],
   "source": [
    "# Array for training:\n",
    "X_train = df_train[['SepalLengthCm', 'SepalWidthCm', 'PetalLengthCm', 'PetalWidthCm']].values\n",
    "Y_train = df_train[[ 'Iris-setosa', 'Iris-versicolor', 'Iris-virginica']].values # hot-encoded labels\n",
    "\n",
    "X_test = df_test[['SepalLengthCm', 'SepalWidthCm', 'PetalLengthCm', 'PetalWidthCm']].values\n",
    "Y_test = df_test[[ 'Iris-setosa', 'Iris-versicolor', 'Iris-virginica']].values # hot-encoded labels"
   ]
  },
  {
   "cell_type": "markdown",
   "metadata": {},
   "source": [
    "Feature Scaling"
   ]
  },
  {
   "cell_type": "code",
   "execution_count": 9,
   "metadata": {},
   "outputs": [],
   "source": [
    "# Scale the data\n",
    "# Z-score Normalization:\n",
    "\n",
    "x_train_mean = np.mean(X_train, axis=0)\n",
    "x_train_std = np.std(X_train, axis=0)\n",
    "\n",
    "# Normalize the training data\n",
    "X_train_norm = (X_train - x_train_mean)/x_train_std # training data normalized\n",
    "\n",
    "# Normalize the testing data- using the scale scale of the training data\n",
    "X_test_norm = (X_test - x_train_mean)/x_train_std # training data normalized"
   ]
  },
  {
   "cell_type": "markdown",
   "metadata": {},
   "source": [
    "#### 02- Define Models Neural Network Architecture "
   ]
  },
  {
   "cell_type": "code",
   "execution_count": 10,
   "metadata": {},
   "outputs": [],
   "source": [
    "# Model 01:\n",
    "\n",
    "# Defining the Neural Network\n",
    "\n",
    "# Setting layers:\n",
    "layer_01 = neural_network_softmax.NN_Layer(layer='layer_01', units= 2, activation_func='relu') # This hidden layer contains 2 perceptrons, and activation function is Relu\n",
    "layer_02 = neural_network_softmax.NN_Layer(layer='layer_02', units= 2, activation_func='relu')\n",
    "layer_03 = neural_network_softmax.NN_Layer(layer='layer_03', units= 2, activation_func='relu')\n",
    "layer_04 = neural_network_softmax.NN_Layer(layer='layer_04', units= 3, activation_func='softmax') # Final layer uses softmax activation layer and cross-entropy loss \n",
    "\n",
    "# Connecting layers to the model\n",
    "nn_class_model_01 = neural_network_softmax.NN([layer_01, layer_02, layer_03, layer_04])\n"
   ]
  },
  {
   "cell_type": "code",
   "execution_count": 11,
   "metadata": {},
   "outputs": [],
   "source": [
    "# Model 02:\n",
    "\n",
    "# Defining the Neural Network\n",
    "\n",
    "# Setting layers:\n",
    "l_01 = neural_network_softmax.NN_Layer(layer='layer_01', units= 25, activation_func='relu') # This hidden layer contains 25 perceptrons, and activation function is Relu\n",
    "l_02 = neural_network_softmax.NN_Layer(layer='layer_02', units= 2, activation_func='relu')\n",
    "l_03 = neural_network_softmax.NN_Layer(layer='layer_03', units= 3, activation_func='softmax') # Final layer uses softmax activation layer and cross-entropy loss \n",
    "\n",
    "# Connecting layers to the model\n",
    "nn_class_model_02 = neural_network_softmax.NN([l_01, l_02, l_03])\n"
   ]
  },
  {
   "cell_type": "markdown",
   "metadata": {},
   "source": [
    "### 03- Train Models:"
   ]
  },
  {
   "cell_type": "markdown",
   "metadata": {},
   "source": [
    "03.01 - Grid Search"
   ]
  },
  {
   "cell_type": "markdown",
   "metadata": {},
   "source": [
    "Models will be trainned in different values of `alpha` - learning rate used in the gradient descent optimization algorithm."
   ]
  },
  {
   "cell_type": "code",
   "execution_count": 12,
   "metadata": {},
   "outputs": [],
   "source": [
    "alpha_list = [1e-1, 1e-2, 1e-3, 1e-4, 1e-5, 1e-6]"
   ]
  },
  {
   "cell_type": "code",
   "execution_count": 56,
   "metadata": {},
   "outputs": [
    {
     "name": "stderr",
     "output_type": "stream",
     "text": [
      "g:\\My Drive\\Emerson_Projects\\My_Learning\\coursera\\ML_Specialization\\advanced_learning_algorithms\\neural_network_softmax.py:114: RuntimeWarning: overflow encountered in exp\n",
      "  return np.exp(z)/np.sum(np.exp(z), axis=1).reshape(-1,1) # [e^z]/[sum(e^z)]\n",
      "g:\\My Drive\\Emerson_Projects\\My_Learning\\coursera\\ML_Specialization\\advanced_learning_algorithms\\neural_network_softmax.py:114: RuntimeWarning: invalid value encountered in divide\n",
      "  return np.exp(z)/np.sum(np.exp(z), axis=1).reshape(-1,1) # [e^z]/[sum(e^z)]\n",
      "g:\\My Drive\\Emerson_Projects\\My_Learning\\coursera\\ML_Specialization\\advanced_learning_algorithms\\neural_network_softmax.py:119: RuntimeWarning: divide by zero encountered in log\n",
      "  return (1/m)*np.sum(-y*np.log(y_hat))                    # -y*ln(y_hat)/m\n",
      "g:\\My Drive\\Emerson_Projects\\My_Learning\\coursera\\ML_Specialization\\advanced_learning_algorithms\\neural_network_softmax.py:119: RuntimeWarning: invalid value encountered in multiply\n",
      "  return (1/m)*np.sum(-y*np.log(y_hat))                    # -y*ln(y_hat)/m\n"
     ]
    }
   ],
   "source": [
    "# Model 01:\n",
    "\n",
    "model_01_cost = []\n",
    "for alpha_value in alpha_list:\n",
    "    # Train model for a given value of alpha\n",
    "    nn_class_model_01.train(features=X_train_norm, \n",
    "                            labels=Y_train, \n",
    "                            alpha= alpha_value, # learning rate used by the gradient descent.\n",
    "                            n_iterations=1000,  # number of iterations done by the optimization algorithm.\n",
    "                            e=1e-5,             # error difference to consider optimization convergency.\n",
    "                            print_cost=False,print_each=100)\n",
    "    # Append error \n",
    "    model_01_cost.append(nn_class_model_01.cost)"
   ]
  },
  {
   "cell_type": "code",
   "execution_count": 57,
   "metadata": {},
   "outputs": [
    {
     "name": "stderr",
     "output_type": "stream",
     "text": [
      "g:\\My Drive\\Emerson_Projects\\My_Learning\\coursera\\ML_Specialization\\advanced_learning_algorithms\\neural_network_softmax.py:114: RuntimeWarning: overflow encountered in exp\n",
      "  return np.exp(z)/np.sum(np.exp(z), axis=1).reshape(-1,1) # [e^z]/[sum(e^z)]\n",
      "g:\\My Drive\\Emerson_Projects\\My_Learning\\coursera\\ML_Specialization\\advanced_learning_algorithms\\neural_network_softmax.py:114: RuntimeWarning: invalid value encountered in divide\n",
      "  return np.exp(z)/np.sum(np.exp(z), axis=1).reshape(-1,1) # [e^z]/[sum(e^z)]\n",
      "g:\\My Drive\\Emerson_Projects\\My_Learning\\coursera\\ML_Specialization\\advanced_learning_algorithms\\neural_network_softmax.py:119: RuntimeWarning: divide by zero encountered in log\n",
      "  return (1/m)*np.sum(-y*np.log(y_hat))                    # -y*ln(y_hat)/m\n",
      "g:\\My Drive\\Emerson_Projects\\My_Learning\\coursera\\ML_Specialization\\advanced_learning_algorithms\\neural_network_softmax.py:119: RuntimeWarning: invalid value encountered in multiply\n",
      "  return (1/m)*np.sum(-y*np.log(y_hat))                    # -y*ln(y_hat)/m\n"
     ]
    }
   ],
   "source": [
    "# Model 02:\n",
    "\n",
    "model_02_cost  = []\n",
    "for alpha_value in alpha_list:\n",
    "    # Train model for a given value of alpha\n",
    "    nn_class_model_02.train(features=X_train_norm,\n",
    "                            labels=Y_train, \n",
    "                            alpha= alpha_value, \n",
    "                            n_iterations=1000, e=1e-5, \n",
    "                            print_cost=False,print_each=1000)\n",
    "    # Append error:\n",
    "    model_02_cost.append(nn_class_model_02.cost)"
   ]
  },
  {
   "cell_type": "code",
   "execution_count": 64,
   "metadata": {},
   "outputs": [
    {
     "data": {
      "image/png": "[encoded data removed]",
      "text/plain": [
       "<Figure size 640x480 with 1 Axes>"
      ]
     },
     "metadata": {},
     "output_type": "display_data"
    }
   ],
   "source": [
    "# Create a scatter plot with a red dashed line\n",
    "plt.plot(alpha_list, model_01_cost, color='green', marker='.', label='model_01_cost')\n",
    "plt.plot(alpha_list, model_02_cost, color='blue', marker='.', label='model_02_cost')\n",
    "# Add labels and title\n",
    "plt.xscale('log')\n",
    "plt.xlabel('X-axis')\n",
    "plt.ylabel('Y-axis')\n",
    "plt.title('Loss values for each value of Alpha')\n",
    "plt.grid(True)\n",
    "plt.legend()\n",
    "plt.show()"
   ]
  },
  {
   "cell_type": "markdown",
   "metadata": {},
   "source": [
    "03.02 - Further training models"
   ]
  },
  {
   "cell_type": "markdown",
   "metadata": {},
   "source": [
    "Based on the results of the quick grid search, the best paremeters of alpha are:\n",
    "\n",
    "|      Model       | Best Alpha value |\n",
    "| ---------------- | ---------------- |\n",
    "| nn_class_model_01|        1e-3      |\n",
    "| nn_class_model_02|      1e-4        |\n"
   ]
  },
  {
   "cell_type": "markdown",
   "metadata": {},
   "source": [
    "Train the models for more iterations:"
   ]
  },
  {
   "cell_type": "code",
   "execution_count": 65,
   "metadata": {},
   "outputs": [
    {
     "name": "stdout",
     "output_type": "stream",
     "text": [
      "1.0986122886681098\n",
      "0.1252812690552099\n",
      "0.09246539950202051\n",
      "0.07855566995578367\n",
      "0.06957508770260493\n",
      "0.06410763124157969\n",
      "0.0597391436309293\n",
      "0.05666651053429119\n",
      "0.054119573209049934\n",
      "0.052189341168508735\n"
     ]
    }
   ],
   "source": [
    "# Model 01\n",
    "nn_class_model_01.train(features=X_train_norm, \n",
    "                            labels=Y_train, \n",
    "                            alpha= 1e-3, # learning rate used by the gradient descent.\n",
    "                            n_iterations=10000,  # number of iterations done by the optimization algorithm.\n",
    "                            e=1e-5,             # error difference to consider optimization convergency.\n",
    "                            print_cost=True,print_each=1000)"
   ]
  },
  {
   "cell_type": "code",
   "execution_count": 66,
   "metadata": {},
   "outputs": [
    {
     "name": "stdout",
     "output_type": "stream",
     "text": [
      "1.0986122886681098\n",
      "0.6726268032209818\n",
      "Optimization has converged!\n",
      "Iteration: \n",
      "\t1344\n",
      "Cost: \n",
      "\t0.6381813257723159\n"
     ]
    }
   ],
   "source": [
    "# Model 02\n",
    "nn_class_model_02.train(features=X_train_norm, \n",
    "                            labels=Y_train, \n",
    "                            alpha= 1e-4, # learning rate used by the gradient descent.\n",
    "                            n_iterations=10000,  # number of iterations done by the optimization algorithm.\n",
    "                            e=1e-5,             # error difference to consider optimization convergency.\n",
    "                            print_cost=True,print_each=1000)"
   ]
  },
  {
   "cell_type": "markdown",
   "metadata": {},
   "source": [
    "### 03- Test Models:"
   ]
  },
  {
   "cell_type": "markdown",
   "metadata": {},
   "source": [
    "Testing the models on making inference on the testing data"
   ]
  },
  {
   "cell_type": "code",
   "execution_count": 67,
   "metadata": {},
   "outputs": [],
   "source": [
    "# Model 01:\n",
    "predicted_model_01 = nn_class_model_01.predict(X_test_norm)"
   ]
  },
  {
   "cell_type": "code",
   "execution_count": 68,
   "metadata": {},
   "outputs": [],
   "source": [
    "# Model 02:\n",
    "predicted_model_02 = nn_class_model_02.predict(X_test_norm)"
   ]
  },
  {
   "cell_type": "markdown",
   "metadata": {},
   "source": [
    "Calculating Error"
   ]
  },
  {
   "cell_type": "code",
   "execution_count": 78,
   "metadata": {},
   "outputs": [],
   "source": [
    "# Calculating the mean squared error:\n",
    "\n",
    "def error(y_hat, y_test):\n",
    "    return sum(np.argmax(y_hat, axis=1) - np.argmax(y_test, axis=1) == 0)/len(y_hat)"
   ]
  },
  {
   "cell_type": "code",
   "execution_count": 83,
   "metadata": {},
   "outputs": [
    {
     "name": "stdout",
     "output_type": "stream",
     "text": [
      "This is the error of the model \"predicted_model_01\" in the testing dataset: \n",
      "\t0.9333333333333333\n"
     ]
    }
   ],
   "source": [
    "# Model 01:\n",
    "print(f'This is the error of the model \"predicted_model_01\" in the testing dataset: \\n\\t{error(predicted_model_01, Y_test)}')\n"
   ]
  },
  {
   "cell_type": "code",
   "execution_count": 84,
   "metadata": {},
   "outputs": [
    {
     "name": "stdout",
     "output_type": "stream",
     "text": [
      "This is the error of the model \"predicted_model_02\" in the testing dataset: \n",
      "\t0.6888888888888889\n"
     ]
    }
   ],
   "source": [
    "# Model 02:\n",
    "\n",
    "print(f'This is the error of the model \"predicted_model_02\" in the testing dataset: \\n\\t{error(predicted_model_02, Y_test)}')\n"
   ]
  },
  {
   "cell_type": "markdown",
   "metadata": {},
   "source": [
    "### 05- Conclusion"
   ]
  },
  {
   "cell_type": "markdown",
   "metadata": {},
   "source": [
    "`Model 01` performs better at predicting/classify the Specie of the iris plants. \n",
    "<br>\n",
    "Model 02 achieved an accuracy of 68% in the testing data, while Model 01 achieved an acccuracy of 93%."
   ]
  },
  {
   "cell_type": "markdown",
   "metadata": {},
   "source": [
    "### Author:\n",
    "Emerson Goncalves"
   ]
  },
  {
   "cell_type": "markdown",
   "metadata": {},
   "source": []
  }
 ],
 "metadata": {
  "kernelspec": {
   "display_name": "emerson_learning-env",
   "language": "python",
   "name": "python3"
  },
  "language_info": {
   "codemirror_mode": {
    "name": "ipython",
    "version": 3
   },
   "file_extension": ".py",
   "mimetype": "text/x-python",
   "name": "python",
   "nbconvert_exporter": "python",
   "pygments_lexer": "ipython3",
   "version": "3.10.9"
  },
  "orig_nbformat": 4
 },
 "nbformat": 4,
 "nbformat_minor": 2
}
